{
 "cells": [
  {
   "cell_type": "markdown",
   "metadata": {
    "pycharm": {
     "name": "#%% md\n"
    }
   },
   "source": [
    "Copyright **`(c)`** 2022 Giovanni Squillero `<squillero@polito.it>`  \n",
    "[`https://github.com/squillero/computational-intelligence`](https://github.com/squillero/computational-intelligence)  \n",
    "Free for personal or classroom use; see [`LICENSE.md`](https://github.com/squillero/computational-intelligence/blob/master/LICENSE.md) for details.  \n"
   ]
  },
  {
   "cell_type": "markdown",
   "metadata": {
    "pycharm": {
     "name": "#%%\n"
    }
   },
   "source": [
    "# Lab 3: ES\n",
    "\n",
    "## Task\n",
    "\n",
    "Write agents able to play [*Nim*](https://en.wikipedia.org/wiki/Nim), with an arbitrary number of rows and an upper bound $k$ on the number of objects that can be removed in a turn (a.k.a., *subtraction game*).\n",
    "\n",
    "The goal of the game is to **avoid** taking the last object.\n",
    "\n",
    "* Task2.1: An agent using fixed rules based on *nim-sum* (i.e., an *expert system*)\n",
    "* Task2.2: An agent using evolved rules using ES\n",
    "\n",
    "## Instructions\n",
    "\n",
    "* Create the directory `lab2` inside your personal course repository for the course \n",
    "* Put a `README.md` and your solution (all the files, code and auxiliary data if needed)\n",
    "\n",
    "## Notes\n",
    "\n",
    "* Working in group is not only allowed, but recommended (see: [Ubuntu](https://en.wikipedia.org/wiki/Ubuntu_philosophy) and [Cooperative Learning](https://files.eric.ed.gov/fulltext/EJ1096789.pdf)). Collaborations must be explicitly declared in the `README.md`.\n",
    "* [Yanking](https://www.emacswiki.org/emacs/KillingAndYanking) from the internet is allowed, but sources must be explicitly declared in the `README.md`.\n",
    "\n"
   ]
  },
  {
   "cell_type": "code",
   "execution_count": 89,
   "metadata": {},
   "outputs": [],
   "source": [
    "import logging\n",
    "from pprint import pprint, pformat\n",
    "from collections import namedtuple\n",
    "import random\n",
    "from copy import deepcopy\n",
    "from dataclasses import dataclass\n",
    "from tqdm.notebook import trange\n",
    "from scipy.special import softmax\n"
   ]
  },
  {
   "cell_type": "markdown",
   "metadata": {},
   "source": [
    "## The *Nim* and *Nimply* classes"
   ]
  },
  {
   "cell_type": "code",
   "execution_count": 90,
   "metadata": {},
   "outputs": [],
   "source": [
    "Nimply = namedtuple(\"Nimply\", \"row, num_objects\")\n"
   ]
  },
  {
   "cell_type": "code",
   "execution_count": 91,
   "metadata": {},
   "outputs": [],
   "source": [
    "class Nim:\n",
    "    def __init__(self, num_rows: int, k: int = None) -> None:\n",
    "        self._rows = [i * 2 + 1 for i in range(num_rows)]\n",
    "        self._k = k\n",
    "\n",
    "    def __bool__(self):\n",
    "        return sum(self._rows) > 0\n",
    "\n",
    "    def __str__(self):\n",
    "        return \"<\" + \" \".join(str(_) for _ in self._rows) + \">\"\n",
    "\n",
    "    @property\n",
    "    def rows(self) -> tuple:\n",
    "        return tuple(self._rows)\n",
    "\n",
    "    def nimming(self, ply: Nimply) -> None:\n",
    "        row, num_objects = ply\n",
    "        assert self._rows[row] >= num_objects\n",
    "        assert self._k is None or num_objects <= self._k\n",
    "        self._rows[row] -= num_objects\n"
   ]
  },
  {
   "cell_type": "markdown",
   "metadata": {},
   "source": [
    "## Sample (and silly) startegies "
   ]
  },
  {
   "cell_type": "code",
   "execution_count": 92,
   "metadata": {},
   "outputs": [],
   "source": [
    "def pure_random(state: Nim) -> Nimply:\n",
    "    \"\"\"A completely random move\"\"\"\n",
    "    row = random.choice([r for r, c in enumerate(state.rows) if c > 0])\n",
    "    num_objects = random.randint(1, min(state.rows[row], state._k))\n",
    "    return Nimply(row, num_objects)\n"
   ]
  },
  {
   "cell_type": "code",
   "execution_count": 93,
   "metadata": {},
   "outputs": [],
   "source": [
    "def gabriele(state: Nim) -> Nimply:\n",
    "    \"\"\"Pick always the maximum possible number of the lowest row\"\"\"\n",
    "    possible_moves = [(r, o) for r, c in enumerate(state.rows) for o in range(1, min(c + 1, state._k))]\n",
    "    return Nimply(*max(possible_moves, key=lambda m: (-m[0], m[1])))\n"
   ]
  },
  {
   "cell_type": "code",
   "execution_count": 94,
   "metadata": {},
   "outputs": [],
   "source": [
    "def adaptive(state: Nim) -> Nimply:\n",
    "    \"\"\"A strategy that can adapt its parameters\"\"\"\n",
    "    genome = {\"love_small\": 0.5}\n"
   ]
  },
  {
   "cell_type": "code",
   "execution_count": 95,
   "metadata": {},
   "outputs": [],
   "source": [
    "import numpy as np\n",
    "\n",
    "\n",
    "def nim_sum(state: Nim) -> int:\n",
    "    tmp = np.array([tuple(int(x) for x in f\"{c:032b}\") for c in state.rows])\n",
    "    xor = tmp.sum(axis=0) % 2\n",
    "    return int(\"\".join(str(_) for _ in xor), base=2)\n",
    "\n",
    "\n",
    "def analize(raw: Nim) -> dict:\n",
    "    cooked = dict()\n",
    "    cooked[\"possible_moves\"] = dict()\n",
    "    for ply in (Nimply(r, o) for r, c in enumerate(raw.rows) for o in range(1, min(c + 1, raw._k))):        \n",
    "        tmp = deepcopy(raw)\n",
    "        tmp.nimming(ply)\n",
    "        cooked[\"possible_moves\"][ply] = nim_sum(tmp)\n",
    "    return cooked\n",
    "\n",
    "\n",
    "def optimal(state: Nim) -> Nimply:\n",
    "    analysis = analize(state)\n",
    "    # logging.debug(f\"analysis:\\n{pformat(analysis)}\")\n",
    "    spicy_moves = [ply for ply, ns in analysis[\"possible_moves\"].items() if ns != 0 and ply.num_objects <= state._k]\n",
    "    if not spicy_moves:\n",
    "        spicy_moves = [move for move in list(analysis[\"possible_moves\"].keys()) if move.num_objects <= state._k]\n",
    "    ply = random.choice(spicy_moves)\n",
    "    return ply\n"
   ]
  },
  {
   "cell_type": "markdown",
   "metadata": {},
   "source": [
    "## Oversimplified match"
   ]
  },
  {
   "cell_type": "code",
   "execution_count": 96,
   "metadata": {},
   "outputs": [
    {
     "name": "stderr",
     "output_type": "stream",
     "text": [
      "INFO:root:init : <1 3 5 7 9 11 13>\n",
      "INFO:root:ply: player 0 plays Nimply(row=6, num_objects=1)\n",
      "INFO:root:status: <1 3 5 7 9 11 12>\n",
      "INFO:root:ply: player 1 plays Nimply(row=4, num_objects=1)\n",
      "INFO:root:status: <1 3 5 7 8 11 12>\n",
      "INFO:root:ply: player 0 plays Nimply(row=4, num_objects=2)\n",
      "INFO:root:status: <1 3 5 7 6 11 12>\n",
      "INFO:root:ply: player 1 plays Nimply(row=2, num_objects=1)\n",
      "INFO:root:status: <1 3 4 7 6 11 12>\n",
      "INFO:root:ply: player 0 plays Nimply(row=3, num_objects=1)\n",
      "INFO:root:status: <1 3 4 6 6 11 12>\n",
      "INFO:root:ply: player 1 plays Nimply(row=4, num_objects=1)\n",
      "INFO:root:status: <1 3 4 6 5 11 12>\n",
      "INFO:root:ply: player 0 plays Nimply(row=2, num_objects=1)\n",
      "INFO:root:status: <1 3 3 6 5 11 12>\n",
      "INFO:root:ply: player 1 plays Nimply(row=5, num_objects=1)\n",
      "INFO:root:status: <1 3 3 6 5 10 12>\n",
      "INFO:root:ply: player 0 plays Nimply(row=4, num_objects=1)\n",
      "INFO:root:status: <1 3 3 6 4 10 12>\n",
      "INFO:root:ply: player 1 plays Nimply(row=6, num_objects=1)\n",
      "INFO:root:status: <1 3 3 6 4 10 11>\n",
      "INFO:root:ply: player 0 plays Nimply(row=4, num_objects=2)\n",
      "INFO:root:status: <1 3 3 6 2 10 11>\n",
      "INFO:root:ply: player 1 plays Nimply(row=3, num_objects=1)\n",
      "INFO:root:status: <1 3 3 5 2 10 11>\n",
      "INFO:root:ply: player 0 plays Nimply(row=3, num_objects=2)\n",
      "INFO:root:status: <1 3 3 3 2 10 11>\n",
      "INFO:root:ply: player 1 plays Nimply(row=6, num_objects=1)\n",
      "INFO:root:status: <1 3 3 3 2 10 10>\n",
      "INFO:root:ply: player 0 plays Nimply(row=2, num_objects=2)\n",
      "INFO:root:status: <1 3 1 3 2 10 10>\n",
      "INFO:root:ply: player 1 plays Nimply(row=5, num_objects=1)\n",
      "INFO:root:status: <1 3 1 3 2 9 10>\n",
      "INFO:root:ply: player 0 plays Nimply(row=4, num_objects=2)\n",
      "INFO:root:status: <1 3 1 3 0 9 10>\n",
      "INFO:root:ply: player 1 plays Nimply(row=5, num_objects=1)\n",
      "INFO:root:status: <1 3 1 3 0 8 10>\n",
      "INFO:root:ply: player 0 plays Nimply(row=5, num_objects=1)\n",
      "INFO:root:status: <1 3 1 3 0 7 10>\n",
      "INFO:root:ply: player 1 plays Nimply(row=6, num_objects=1)\n",
      "INFO:root:status: <1 3 1 3 0 7 9>\n",
      "INFO:root:ply: player 0 plays Nimply(row=0, num_objects=1)\n",
      "INFO:root:status: <0 3 1 3 0 7 9>\n",
      "INFO:root:ply: player 1 plays Nimply(row=5, num_objects=2)\n",
      "INFO:root:status: <0 3 1 3 0 5 9>\n",
      "INFO:root:ply: player 0 plays Nimply(row=2, num_objects=1)\n",
      "INFO:root:status: <0 3 0 3 0 5 9>\n",
      "INFO:root:ply: player 1 plays Nimply(row=1, num_objects=2)\n",
      "INFO:root:status: <0 1 0 3 0 5 9>\n",
      "INFO:root:ply: player 0 plays Nimply(row=1, num_objects=1)\n",
      "INFO:root:status: <0 0 0 3 0 5 9>\n",
      "INFO:root:ply: player 1 plays Nimply(row=5, num_objects=1)\n",
      "INFO:root:status: <0 0 0 3 0 4 9>\n",
      "INFO:root:ply: player 0 plays Nimply(row=6, num_objects=2)\n",
      "INFO:root:status: <0 0 0 3 0 4 7>\n",
      "INFO:root:ply: player 1 plays Nimply(row=6, num_objects=2)\n",
      "INFO:root:status: <0 0 0 3 0 4 5>\n",
      "INFO:root:ply: player 0 plays Nimply(row=5, num_objects=1)\n",
      "INFO:root:status: <0 0 0 3 0 3 5>\n",
      "INFO:root:ply: player 1 plays Nimply(row=5, num_objects=1)\n",
      "INFO:root:status: <0 0 0 3 0 2 5>\n",
      "INFO:root:ply: player 0 plays Nimply(row=5, num_objects=2)\n",
      "INFO:root:status: <0 0 0 3 0 0 5>\n",
      "INFO:root:ply: player 1 plays Nimply(row=3, num_objects=1)\n",
      "INFO:root:status: <0 0 0 2 0 0 5>\n",
      "INFO:root:ply: player 0 plays Nimply(row=6, num_objects=2)\n",
      "INFO:root:status: <0 0 0 2 0 0 3>\n",
      "INFO:root:ply: player 1 plays Nimply(row=3, num_objects=1)\n",
      "INFO:root:status: <0 0 0 1 0 0 3>\n",
      "INFO:root:ply: player 0 plays Nimply(row=3, num_objects=1)\n",
      "INFO:root:status: <0 0 0 0 0 0 3>\n",
      "INFO:root:ply: player 1 plays Nimply(row=6, num_objects=1)\n",
      "INFO:root:status: <0 0 0 0 0 0 2>\n",
      "INFO:root:ply: player 0 plays Nimply(row=6, num_objects=2)\n",
      "INFO:root:status: <0 0 0 0 0 0 0>\n",
      "INFO:root:status: Player 1 won!\n"
     ]
    }
   ],
   "source": [
    "logging.getLogger().setLevel(logging.INFO)\n",
    "\n",
    "strategy = (pure_random, pure_random)\n",
    "\n",
    "nim = Nim(7, 2)\n",
    "logging.info(f\"init : {nim}\")\n",
    "player = 0\n",
    "while nim:\n",
    "    ply = strategy[player](nim)\n",
    "    logging.info(f\"ply: player {player} plays {ply}\")\n",
    "    nim.nimming(ply)\n",
    "    logging.info(f\"status: {nim}\")\n",
    "    player = 1 - player\n",
    "logging.info(f\"status: Player {player} won!\")\n"
   ]
  },
  {
   "cell_type": "markdown",
   "metadata": {},
   "source": [
    "# Task 2.2\n",
    "\n",
    "We will divide the game into three phases: early game, mid game and late game and we will try to choose the most appropriate move from the strategies we have available. We will use a probability value to decide which strategy to use among the available ones. In our ES the parameters to optimize will be:\n",
    "- Phase delimiters: the thresholds we use to change which phase of the game we are in.\n",
    "- Strategy Weights: values between 1 and 10 to compute the probabilities of the strategies to use. We then use the softmax function to normalize these values.\n",
    "\n"
   ]
  },
  {
   "cell_type": "code",
   "execution_count": 97,
   "metadata": {},
   "outputs": [],
   "source": [
    "def calculate_moves_ratio(nim: Nim):\n",
    "  possible_moves = sum([1 for r, c in enumerate(nim.rows) for o in range(1, min(c+1, nim._k))])\n",
    "  \n",
    "  initial_nim=Nim(len(nim.rows), nim._k)\n",
    "  possible_moves_initial = sum([1 for r, c in enumerate(initial_nim.rows) for o in range(1, min(c+1, nim._k))])\n",
    "  \n",
    "  return possible_moves / possible_moves_initial\n",
    "\n"
   ]
  },
  {
   "cell_type": "code",
   "execution_count": 98,
   "metadata": {},
   "outputs": [],
   "source": [
    "STRATEGIES = [optimal, pure_random, gabriele]\n",
    "mut_rate: float = (0.1,3)\n",
    "\n",
    "@dataclass(init=False)\n",
    "class State:\n",
    "\n",
    "  n_strategy: int\n",
    "  phase_thresholds: list[float]\n",
    "  strategy_weights: list[list[float]]\n",
    "\n",
    "  def __init__(self, n_strategy: int = None, phase_thresholds: list[float] = None, strategy_weights: list[list[float]] = None) -> None:\n",
    "    if n_strategy is None:\n",
    "      n_strategy = len(STRATEGIES)\n",
    "    if phase_thresholds is None:\n",
    "      phase_thresholds = sorted([random.random(), random.random()])\n",
    "    else:\n",
    "      phase_thresholds = sorted([max(0, phase_thresholds[0]), min(1, phase_thresholds[1])])\n",
    "    if strategy_weights is None:\n",
    "      strategy_weights = np.random.uniform(1, 10, (len(phase_thresholds) + 1, n_strategy))\n",
    "    \n",
    "    self.n_strategy = n_strategy\n",
    "    self.phase_thresholds = phase_thresholds\n",
    "    self.strategy_weights = strategy_weights\n",
    "\n",
    "  def mutate(state : \"State\") -> \"State\":\n",
    "    global mut_rate\n",
    "    new_state = deepcopy(state)\n",
    "    phase_thresholds = np.clip(np.random.normal(state.phase_thresholds, mut_rate[0]), 0, 1).tolist()\n",
    "    strategy_weights = np.clip(np.random.normal(state.strategy_weights, mut_rate[1]), 1, 10).tolist()\n",
    "    return State(state.n_strategy, phase_thresholds, strategy_weights)\n",
    "  \n",
    "  def __call__(self: \"State\", state: Nim) -> Nimply:\n",
    "    phase_ratio = calculate_moves_ratio(state)\n",
    "    phase = (0 if phase_ratio < self.phase_thresholds[0] else 1 if phase_ratio < self.phase_thresholds[1] else 2)\n",
    "    probabilities = softmax(self.strategy_weights[phase])\n",
    "    strategy = np.random.choice(STRATEGIES, p=probabilities)\n",
    "    return strategy(state)\n",
    "    \n",
    "  def __str__(self):\n",
    "    return f\"<Strategies: {self.n_strategy}, Phase Thresholds: {self.phase_thresholds}, Weights: {self.strategy_weights}>\""
   ]
  },
  {
   "cell_type": "code",
   "execution_count": 99,
   "metadata": {},
   "outputs": [],
   "source": [
    "OPPONENT = optimal\n",
    "N_GAMES = 25\n",
    "\n",
    "\n",
    "def match(nim: Nim, strategy: tuple[Nimply]) -> int:\n",
    "  player = 0\n",
    "  while nim:\n",
    "    ply = strategy[player](nim)\n",
    "    nim.nimming(ply)\n",
    "    player = 1 - player\n",
    "  return player\n",
    "\n",
    "def play_matches(p1_strategy, opp_strategy=OPPONENT, n_games = N_GAMES):\n",
    "  p1_wins = 0\n",
    "  for _ in range(n_games):\n",
    "    random_size = random.randint(4, 10)\n",
    "    random_k = random.randint(2, 10)\n",
    "    nim = Nim(random_size, random_k)\n",
    "    p1_wins +=1 if match(nim, (p1_strategy, opp_strategy)) == 0 else 0\n",
    "  return p1_wins / n_games"
   ]
  },
  {
   "cell_type": "markdown",
   "metadata": {},
   "source": [
    "# (1, $\\lambda$)-ES"
   ]
  },
  {
   "cell_type": "code",
   "execution_count": 101,
   "metadata": {},
   "outputs": [
    {
     "data": {
      "application/vnd.jupyter.widget-view+json": {
       "model_id": "d8a8e687550347ffb6beb473cd92a6aa",
       "version_major": 2,
       "version_minor": 0
      },
      "text/plain": [
       "  0%|          | 0/100 [00:00<?, ?it/s]"
      ]
     },
     "metadata": {},
     "output_type": "display_data"
    },
    {
     "name": "stdout",
     "output_type": "stream",
     "text": [
      "Strategies used: [<function optimal at 0x7fdf6157b060>, <function pure_random at 0x7fdf61578d60>, <function gabriele at 0x7fdf61578860>]\n",
      "Phase thresholds: [0.8094549054991292, 0.9868326943165479]\n",
      "Strategy weights in early game: [0.9981877542469261, 0.0007272658439016103, 0.0010849799091722115]\n",
      "Strategy weights in mid game: [0.8629330850186336, 0.011724942145367472, 0.12534197283599893]\n",
      "Strategy weights in late game: [0.8389051329825785, 0.0005359711490094399, 0.16055889586841204]\n",
      "Solution score: 0.6\n"
     ]
    }
   ],
   "source": [
    "LAMBDA = 10\n",
    "N_GAMES = 10\n",
    "\n",
    "solution = State()\n",
    "solution_score = play_matches(solution)\n",
    "mut_rate = (0.1, 3)\n",
    "\n",
    "pbar = trange(0, 1000//LAMBDA)\n",
    "for _ in pbar:\n",
    "  pbar.set_description(f\"Best score: {solution_score}\")\n",
    "  offspring = [State.mutate(solution) for _ in range(LAMBDA)]\n",
    "  offspring_scores = [play_matches(offspring) for offspring in offspring]\n",
    "  # calculate incr rate\n",
    "  incr_rate = sum([1 for offspring_score in offspring_scores if offspring_score > solution_score]) / LAMBDA\n",
    "  if incr_rate > 0.2:\n",
    "    mut_rate = (mut_rate[0] * 1.1, mut_rate[1] * 1.1)\n",
    "  elif incr_rate < 0.2:\n",
    "    mut_rate = (mut_rate[0] * 0.9, mut_rate[1] * 0.9)\n",
    "\n",
    "  # update solution\n",
    "  solution = offspring[np.argmax(offspring_scores)]\n",
    "  solution_score = max(offspring_scores)\n",
    "\n",
    "  if solution_score >= 0.99:\n",
    "    break \n",
    "\n",
    "normalized_weights = softmax(solution.strategy_weights, axis=1)\n",
    "solution.strategy_weights = normalized_weights.tolist()\n",
    "\n",
    "print(f\"Strategies used: {STRATEGIES}\")\n",
    "print(f\"Phase thresholds: {solution.phase_thresholds}\")\n",
    "print(f\"Strategy weights in early game: {solution.strategy_weights[0]}\")\n",
    "print(f\"Strategy weights in mid game: {solution.strategy_weights[1]}\")\n",
    "print(f\"Strategy weights in late game: {solution.strategy_weights[2]}\")\n",
    "print(f\"Solution score: {solution_score}\")"
   ]
  }
 ],
 "metadata": {
  "kernelspec": {
   "display_name": "Python 3.10.7 ('ci22-dPIXJ0_o-py3.10')",
   "language": "python",
   "name": "python3"
  },
  "language_info": {
   "codemirror_mode": {
    "name": "ipython",
    "version": 3
   },
   "file_extension": ".py",
   "mimetype": "text/x-python",
   "name": "python",
   "nbconvert_exporter": "python",
   "pygments_lexer": "ipython3",
   "version": "3.11.5"
  },
  "vscode": {
   "interpreter": {
    "hash": "10197e8e2f2aa67e2c349105091c77f4cd384fce4877865f002d9ec653f96bc0"
   }
  }
 },
 "nbformat": 4,
 "nbformat_minor": 2
}
