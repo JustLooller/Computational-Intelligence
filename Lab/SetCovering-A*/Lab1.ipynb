{
 "cells": [
  {
   "cell_type": "code",
   "execution_count": 82,
   "metadata": {},
   "outputs": [],
   "source": [
    "from random import random\n",
    "from functools import reduce\n",
    "from queue import PriorityQueue\n",
    "import numpy as np"
   ]
  },
  {
   "cell_type": "code",
   "execution_count": 83,
   "metadata": {},
   "outputs": [],
   "source": [
    "PROBLEM_SIZE = 20\n",
    "NUM_SETS= 512\n",
    "SETS= tuple(np.array([random() < .2 for _ in range(PROBLEM_SIZE)]) for _ in range(NUM_SETS))"
   ]
  },
  {
   "cell_type": "code",
   "execution_count": 84,
   "metadata": {},
   "outputs": [],
   "source": [
    "def heuristic(state): \n",
    "  return np.count_nonzero(np.logical_not(reduce(np.logical_or, [SETS[i] for i in state[0]], np.array([False for _ in range(PROBLEM_SIZE)]))))\n",
    "\n",
    "def goal_check(state):\n",
    "  return np.all(reduce(np.logical_or, [SETS[i] for i in state[0]], np.array([False for _ in range(PROBLEM_SIZE)]))) # Test to check if all elements are covered"
   ]
  },
  {
   "cell_type": "code",
   "execution_count": 85,
   "metadata": {},
   "outputs": [
    {
     "name": "stdout",
     "output_type": "stream",
     "text": [
      "Number of iterations:  3\n",
      "Solution:  {2, 111, 471}\n"
     ]
    }
   ],
   "source": [
    "frontier = PriorityQueue()\n",
    "frontier.put((set(), set(range(NUM_SETS))))\n",
    "counter = 0\n",
    "state = frontier.get()\n",
    "while not goal_check(state):\n",
    "  counter += 1\n",
    "  for action in state[1]:\n",
    "    new_state = (state[0] | {action}, state[1] - {action})\n",
    "    frontier.put((heuristic(new_state), (new_state[0], new_state[1])))\n",
    "  state = frontier.get()[1]\n",
    "print(\"Number of iterations: \", counter)\n",
    "print(\"Solution: \", state[0])\n",
    "\n"
   ]
  }
 ],
 "metadata": {
  "kernelspec": {
   "display_name": "venv_computationa",
   "language": "python",
   "name": "python3"
  },
  "language_info": {
   "codemirror_mode": {
    "name": "ipython",
    "version": 3
   },
   "file_extension": ".py",
   "mimetype": "text/x-python",
   "name": "python",
   "nbconvert_exporter": "python",
   "pygments_lexer": "ipython3",
   "version": "3.11.5"
  }
 },
 "nbformat": 4,
 "nbformat_minor": 2
}
