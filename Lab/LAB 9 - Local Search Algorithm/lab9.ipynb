{
 "cells": [
  {
   "cell_type": "markdown",
   "metadata": {},
   "source": [
    "Copyright **`(c)`** 2023 Giovanni Squillero `<giovanni.squillero@polito.it>`  \n",
    "[`https://github.com/squillero/computational-intelligence`](https://github.com/squillero/computational-intelligence)  \n",
    "Free for personal or classroom use; see [`LICENSE.md`](https://github.com/squillero/computational-intelligence/blob/master/LICENSE.md) for details.  "
   ]
  },
  {
   "cell_type": "markdown",
   "metadata": {},
   "source": [
    "# LAB9\n",
    "\n",
    "Write a local-search algorithm (eg. an EA) able to solve the *Problem* instances 1, 2, 5, and 10 on a 1000-loci genomes, using a minimum number of fitness calls. That's all.\n",
    "\n",
    "### Deadlines:\n",
    "\n",
    "* Submission: Sunday, December 3 ([CET](https://www.timeanddate.com/time/zones/cet))\n",
    "* Reviews: Sunday, December 10 ([CET](https://www.timeanddate.com/time/zones/cet))\n",
    "\n",
    "Notes:\n",
    "\n",
    "* Reviews will be assigned  on Monday, December 4\n",
    "* You need to commit in order to be selected as a reviewer (ie. better to commit an empty work than not to commit)"
   ]
  },
  {
   "cell_type": "code",
   "execution_count": 1,
   "metadata": {},
   "outputs": [],
   "source": [
    "from random import choices\n",
    "from dataclasses import dataclass\n",
    "from typing import List\n",
    "from tqdm import tqdm\n",
    "from random import random\n",
    "import numpy as np\n",
    "\n",
    "import lab9_lib"
   ]
  },
  {
   "cell_type": "code",
   "execution_count": 2,
   "metadata": {},
   "outputs": [],
   "source": [
    "POPULATION_SIZE = 50\n",
    "OFFSPRING_SIZE = 25\n",
    "EXTINCTION_SIZE = 20\n",
    "GENERATIONS = 10000\n",
    "CROSSOVER_PROBABILITY = 0.8\n",
    "MUTATION_PROBABILITY = 0.5\n",
    "CUTS = 5\n",
    "TOURNAMENT_SIZE = 3\n"
   ]
  },
  {
   "cell_type": "code",
   "execution_count": 3,
   "metadata": {},
   "outputs": [],
   "source": [
    "@dataclass\n",
    "class Individual:\n",
    "  genotype: List[int]\n",
    "  fitness: float = 0.0\n",
    "\n",
    "  def crossover(self, ff, other: \"Individual\", cuts: int = CUTS) -> \"Individual\":\n",
    "    \"\"\"Returns two new individuals from crossing self and other and picks the best one.\"\"\"\n",
    "    assert len(self.genotype) == len(other.genotype)\n",
    "    resulting_genotype_1 = []\n",
    "    resulting_genotype_2 = []\n",
    "    cuttings = choices(range(len(self.genotype)), k=cuts)\n",
    "    cuttings.sort()\n",
    "    resulting_genotype_1 += self.genotype[:cuttings[0]]\n",
    "    resulting_genotype_2 += other.genotype[:cuttings[0]]\n",
    "    if cuts == 1:\n",
    "      resulting_genotype_1 += other.genotype[cuttings[0]:]\n",
    "      resulting_genotype_2 += self.genotype[cuttings[0]:]\n",
    "      individual_1 = Individual(fitness=ff(resulting_genotype_1), genotype=resulting_genotype_1)\n",
    "      individual_2 = Individual(fitness=ff(resulting_genotype_2), genotype=resulting_genotype_2)\n",
    "      return individual_1 if individual_1.fitness > individual_2.fitness else individual_2\n",
    "    else:\n",
    "      for i in range(1, len(cuttings)):\n",
    "        if i % 2 == 0:\n",
    "          resulting_genotype_1 += self.genotype[cuttings[i-1]:cuttings[i]]\n",
    "          resulting_genotype_2 += other.genotype[cuttings[i-1]:cuttings[i]]\n",
    "        else:\n",
    "          resulting_genotype_1 += other.genotype[cuttings[i-1]:cuttings[i]]\n",
    "          resulting_genotype_2 += self.genotype[cuttings[i-1]:cuttings[i]]\n",
    "      resulting_genotype_1 += self.genotype[cuttings[-1]:]\n",
    "      resulting_genotype_2 += other.genotype[cuttings[-1]:]\n",
    "      individual_1 = Individual(fitness=ff(resulting_genotype_1), genotype=resulting_genotype_1)\n",
    "      individual_2 = Individual(fitness=ff(resulting_genotype_2), genotype=resulting_genotype_2)\n",
    "\n",
    "      return individual_1 if individual_1.fitness > individual_2.fitness else individual_2\n",
    "\n",
    "  def mutate(self, ff) -> \"Individual\":\n",
    "    \"\"\"Returns a new individual from mutating self.\"\"\"\n",
    "    resulting_genotype = []\n",
    "    changes = choices(range(len(self.genotype)), k=50)\n",
    "    for i in range(len(self.genotype)):\n",
    "      if i in changes:\n",
    "        resulting_genotype.append(1 - self.genotype[i])\n",
    "      else:\n",
    "        resulting_genotype.append(self.genotype[i])\n",
    "    return Individual(fitness=ff(resulting_genotype), genotype=resulting_genotype)\n",
    "    \n",
    "\n",
    "  def __repr__(self):\n",
    "    return f\"Individual(fitness={self.fitness:.2%}, genotype={self.genotype})\"\n",
    "\n",
    "\n",
    "\n",
    "  \n",
    "    "
   ]
  },
  {
   "cell_type": "code",
   "execution_count": 4,
   "metadata": {},
   "outputs": [],
   "source": [
    "\n",
    "def begin_problem(problem_size: int = 1) -> List[Individual]:\n",
    "  fitness = lab9_lib.make_problem(problem_size)\n",
    "  population = [Individual(genotype = choices([0, 1], k=1000)) for _ in range(POPULATION_SIZE)]\n",
    "  for i in range(POPULATION_SIZE):\n",
    "   population[i].fitness = fitness(population[i].genotype)\n",
    "  return population, fitness\n",
    "\n",
    "\n",
    "def parent_selection(population: List[Individual], type: str = \"Random\") -> List[Individual]:\n",
    "  \"\"\"Returns a list of individuals from the population that will be used for crossover.\"\"\"\n",
    "  if type == \"Random\":\n",
    "    return choices(population, k=2)\n",
    "  elif type == \"Tournament\":\n",
    "    contestants = choices(population, k=TOURNAMENT_SIZE)\n",
    "    contestants.sort(key=lambda x: x.fitness, reverse=True)\n",
    "\n",
    "    contestants2 = choices(population, k=TOURNAMENT_SIZE)\n",
    "    contestants2.sort(key=lambda x: x.fitness, reverse=True)\n",
    "    return contestants[0], contestants2[0]\n",
    "  elif type == \"Roulette\":\n",
    "    return choices(population, weights=[x.fitness for x in population], k=3)\n",
    "  else:\n",
    "    raise ValueError(\"Invalid parent selection type\")\n",
    "\n",
    "  \n",
    "    \n"
   ]
  },
  {
   "cell_type": "code",
   "execution_count": 5,
   "metadata": {},
   "outputs": [
    {
     "name": "stderr",
     "output_type": "stream",
     "text": [
      "Epochs:   0%|          | 0/10000 [00:00<?, ?epoch/s, fitness=0.54] "
     ]
    },
    {
     "name": "stderr",
     "output_type": "stream",
     "text": [
      "Epochs: 100%|██████████| 10000/10000 [01:16<00:00, 131.02epoch/s, fitness=0.7] \n"
     ]
    }
   ],
   "source": [
    "epochs_bar = tqdm(range(GENERATIONS), unit=\"epoch\", desc=\"Epochs\")\n",
    "population, fitness = begin_problem(2)\n",
    "epoch_stddev = []\n",
    "for epoch in epochs_bar:\n",
    "  if epoch % 10 == 0:\n",
    "    epoch_stddev.append(np.std([x.fitness for x in population]))\n",
    "  if epoch % 100 == 0:\n",
    "    epoch_stddev.sort()\n",
    "    if epoch_stddev[-1] - epoch_stddev[0] < 0.01:\n",
    "      population = population[EXTINCTION_SIZE:]\n",
    "      population.extend([Individual(genotype = choices([0, 1], k=1000)) for _ in range(EXTINCTION_SIZE)])\n",
    "      for i in range(EXTINCTION_SIZE):\n",
    "        population[i].fitness = fitness(population[i].genotype)\n",
    "      epoch_stddev = []\n",
    "  new_population = []\n",
    "  for _ in range(OFFSPRING_SIZE):\n",
    "    parent1, parent2 = parent_selection(population, \"Tournament\")\n",
    "    if random() < MUTATION_PROBABILITY:\n",
    "      child = parent1.mutate(fitness) if parent1.fitness > parent2.fitness else parent2.mutate(fitness)\n",
    "    if random() < CROSSOVER_PROBABILITY:\n",
    "      child = parent1.crossover(fitness, parent2)\n",
    "    new_population.append(child)\n",
    "  population.extend(new_population)\n",
    "  population.sort(key=lambda x: x.fitness, reverse=True)\n",
    "  population = population[:POPULATION_SIZE]\n",
    "  epochs_bar.set_postfix({\"fitness\": population[0].fitness})\n",
    "  "
   ]
  },
  {
   "cell_type": "code",
   "execution_count": 6,
   "metadata": {},
   "outputs": [
    {
     "data": {
      "text/plain": [
       "525073"
      ]
     },
     "execution_count": 6,
     "metadata": {},
     "output_type": "execute_result"
    }
   ],
   "source": [
    "fitness.calls"
   ]
  }
 ],
 "metadata": {
  "kernelspec": {
   "display_name": "ci-fLJ3OwGs-py3.12",
   "language": "python",
   "name": "python3"
  },
  "language_info": {
   "codemirror_mode": {
    "name": "ipython",
    "version": 3
   },
   "file_extension": ".py",
   "mimetype": "text/x-python",
   "name": "python",
   "nbconvert_exporter": "python",
   "pygments_lexer": "ipython3",
   "version": "3.12.0"
  }
 },
 "nbformat": 4,
 "nbformat_minor": 2
}
